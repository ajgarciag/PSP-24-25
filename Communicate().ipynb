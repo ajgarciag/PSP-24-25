{
 "cells": [
  {
   "cell_type": "code",
   "execution_count": 1,
   "id": "4de517f8",
   "metadata": {},
   "outputs": [
    {
     "name": "stdout",
     "output_type": "stream",
     "text": [
      "Introduce numeros separados por comas: ['1', '4', '10', '3']\r\n",
      "[1, 4, 10, 3]\r\n",
      "El maximo es  10\r\n",
      "\n",
      "\n"
     ]
    }
   ],
   "source": [
    "import subprocess\n",
    "\n",
    "# Iniciar el proceso\n",
    "process = subprocess.Popen([\"python\",\"maximo.py\"], stdin=subprocess.PIPE, stdout=subprocess.PIPE, stderr=subprocess.PIPE)\n",
    "\n",
    "# Enviar los números al proceso\n",
    "output, error = process.communicate(b\"1,4,10,3\\n\")\n",
    "\n",
    "print(output.decode())\n",
    "print(error.decode())\n",
    "# Mostrar el resultado\n",
    "#print(output.decode())\n"
   ]
  },
  {
   "cell_type": "code",
   "execution_count": null,
   "id": "bdddda72",
   "metadata": {},
   "outputs": [],
   "source": []
  },
  {
   "cell_type": "code",
   "execution_count": null,
   "id": "baf51bb2",
   "metadata": {},
   "outputs": [],
   "source": []
  }
 ],
 "metadata": {
  "kernelspec": {
   "display_name": "Python 3 (ipykernel)",
   "language": "python",
   "name": "python3"
  },
  "language_info": {
   "codemirror_mode": {
    "name": "ipython",
    "version": 3
   },
   "file_extension": ".py",
   "mimetype": "text/x-python",
   "name": "python",
   "nbconvert_exporter": "python",
   "pygments_lexer": "ipython3",
   "version": "3.11.5"
  }
 },
 "nbformat": 4,
 "nbformat_minor": 5
}
