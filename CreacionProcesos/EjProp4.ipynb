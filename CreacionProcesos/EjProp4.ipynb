{
 "cells": [
  {
   "cell_type": "code",
   "execution_count": 9,
   "id": "fa07ad78",
   "metadata": {},
   "outputs": [],
   "source": [
    "import subprocess\n",
    "import psutil"
   ]
  },
  {
   "cell_type": "code",
   "execution_count": 10,
   "id": "99beda78",
   "metadata": {},
   "outputs": [
    {
     "name": "stdout",
     "output_type": "stream",
     "text": [
      "<class 'psutil.Process'>\n",
      "La prioridad antes del cambio es: 32\n"
     ]
    }
   ],
   "source": [
    "#creamos proceso: notepad.exe\n",
    "proceso = subprocess.Popen([\"notepad.exe\"])\n",
    "procesotxt = psutil.Process(proceso.pid) #convertimos a objeto de clase psutil para poder acceder a su prioridad\n",
    "print(type(procesotxt))\n",
    "print(f\"La prioridad antes del cambio es: {procesotxt.nice()}\")\n"
   ]
  },
  {
   "cell_type": "code",
   "execution_count": 12,
   "id": "27693ba7",
   "metadata": {},
   "outputs": [
    {
     "data": {
      "text/plain": [
       "17108"
      ]
     },
     "execution_count": 12,
     "metadata": {},
     "output_type": "execute_result"
    }
   ],
   "source": [
    "procesotxt.pid"
   ]
  },
  {
   "cell_type": "code",
   "execution_count": 11,
   "id": "9093ecb1",
   "metadata": {},
   "outputs": [
    {
     "name": "stdout",
     "output_type": "stream",
     "text": [
      "La prioridad después del cambio es: 16384\n"
     ]
    }
   ],
   "source": [
    "\n",
    "procesotxt.nice(psutil.BELOW_NORMAL_PRIORITY_CLASS)\n",
    "print(f\"La prioridad después del cambio es: {procesotxt.nice()}\")\n",
    "#se puede comprobar también en el administrador de tareas directamente"
   ]
  },
  {
   "cell_type": "code",
   "execution_count": null,
   "id": "b92329a4",
   "metadata": {},
   "outputs": [],
   "source": []
  }
 ],
 "metadata": {
  "kernelspec": {
   "display_name": "Python 3 (ipykernel)",
   "language": "python",
   "name": "python3"
  },
  "language_info": {
   "codemirror_mode": {
    "name": "ipython",
    "version": 3
   },
   "file_extension": ".py",
   "mimetype": "text/x-python",
   "name": "python",
   "nbconvert_exporter": "python",
   "pygments_lexer": "ipython3",
   "version": "3.11.5"
  }
 },
 "nbformat": 4,
 "nbformat_minor": 5
}
