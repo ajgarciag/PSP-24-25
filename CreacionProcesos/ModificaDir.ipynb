{
 "cells": [
  {
   "cell_type": "code",
   "execution_count": 4,
   "id": "e5aaa8f6",
   "metadata": {},
   "outputs": [],
   "source": [
    "import subprocess\n",
    "import os\n",
    "\n",
    "# Verificar si el directorio existe, si no, crearlo\n",
    "os.makedirs(r\"C:\\Users\\Administrador\\Desktop\", exist_ok=True)\n",
    "\n",
    "# Cambiar el directorio de trabajo y redirigir la salida \n",
    "with open(\"salida.txt\", \"w\") as f: #Abre (o crea, si no existe) un archivo llamado salida.txt en modo escritura (w). La variable f representa el archivo.\n",
    "    process = subprocess.Popen([\"cmd\", \"/C\", \"dir\"],cwd = r\"C:\\Users\\Administrador\\Desktop\\prueba\", stdout=f)\n",
    "    #process.wait()  # Esperar a que el proceso termine\n"
   ]
  },
  {
   "cell_type": "code",
   "execution_count": null,
   "id": "4cb92c8c",
   "metadata": {},
   "outputs": [],
   "source": []
  }
 ],
 "metadata": {
  "kernelspec": {
   "display_name": "Python 3 (ipykernel)",
   "language": "python",
   "name": "python3"
  },
  "language_info": {
   "codemirror_mode": {
    "name": "ipython",
    "version": 3
   },
   "file_extension": ".py",
   "mimetype": "text/x-python",
   "name": "python",
   "nbconvert_exporter": "python",
   "pygments_lexer": "ipython3",
   "version": "3.11.5"
  }
 },
 "nbformat": 4,
 "nbformat_minor": 5
}
