{
 "cells": [
  {
   "cell_type": "code",
   "execution_count": 4,
   "id": "af2a09b7",
   "metadata": {},
   "outputs": [
    {
     "name": "stdout",
     "output_type": "stream",
     "text": [
      "python.exe\n",
      "C:\\Users\\Administrador\\Desktop\\Toni\\PSP\\Python\\CreacionProcesos\n",
      "16384\n",
      "32\n"
     ]
    }
   ],
   "source": [
    "import psutil\n",
    "import os\n",
    "import subprocess\n",
    "import sys\n",
    "\n",
    "def ProcesoActual ():\n",
    "    return psutil.Process(os.getpid())\n",
    "\n",
    "print (ProcesoActual().name())  #nombre\n",
    "print (ProcesoActual().cwd()) #path de ejecución\n",
    "\n",
    "#prioridad ante del cambio\n",
    "print  (ProcesoActual().nice())\n",
    "\n",
    "ProcesoActual().nice(psutil.NORMAL_PRIORITY_CLASS) #cambiamos a prioridad \"por debajo de lo normal\"\n",
    "\n",
    "\n",
    "#prioridad después del cambio\n",
    "print (ProcesoActual().nice())"
   ]
  },
  {
   "cell_type": "code",
   "execution_count": null,
   "id": "e4c0689e",
   "metadata": {},
   "outputs": [],
   "source": []
  }
 ],
 "metadata": {
  "kernelspec": {
   "display_name": "Python 3 (ipykernel)",
   "language": "python",
   "name": "python3"
  },
  "language_info": {
   "codemirror_mode": {
    "name": "ipython",
    "version": 3
   },
   "file_extension": ".py",
   "mimetype": "text/x-python",
   "name": "python",
   "nbconvert_exporter": "python",
   "pygments_lexer": "ipython3",
   "version": "3.11.5"
  }
 },
 "nbformat": 4,
 "nbformat_minor": 5
}
