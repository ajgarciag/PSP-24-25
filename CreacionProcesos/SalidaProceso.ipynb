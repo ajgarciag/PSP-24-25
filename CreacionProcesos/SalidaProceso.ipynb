{
 "cells": [
  {
   "cell_type": "code",
   "execution_count": 8,
   "id": "e6808017",
   "metadata": {},
   "outputs": [
    {
     "name": "stdout",
     "output_type": "stream",
     "text": [
      " El volumen de la unidad C no tiene etiqueta.\r\n",
      " El n·mero de serie del volumen es: 3AFE-1DFF\r\n",
      "\r\n",
      " Directorio de C:\\\r\n",
      "\r\n",
      "07/05/2022  07:24    <DIR>          PerfLogs\r\n",
      "09/10/2024  15:18    <DIR>          Program Files\r\n",
      "09/04/2024  21:32    <DIR>          Program Files (x86)\r\n",
      "18/05/2023  10:40    <DIR>          Users\r\n",
      "04/10/2024  23:25    <DIR>          Windows\r\n",
      "01/10/2024  20:47    <DIR>          xampp\r\n",
      "               0 archivos              0 bytes\r\n",
      "               6 dirs  101.019.934.720 bytes libres\r\n",
      "\n"
     ]
    }
   ],
   "source": [
    "import subprocess\n",
    "\n",
    "# Ejecutar el comando 'dir' en Windows y capturar su salida\n",
    "process = subprocess.Popen([\"cmd\", \"/C\", \"dir\", \"C:\\\\\"], stdout=subprocess.PIPE)\n",
    "\n",
    "# Obtener la salida del proceso\n",
    "output, _= process.communicate()\n",
    "\n",
    "# Decodificar la salida usando el encoding adecuado para Windows (cp850 o latin1)\n",
    "print(output.decode('cp850'))  # También puedes probar con 'latin1'"
   ]
  },
  {
   "cell_type": "code",
   "execution_count": null,
   "id": "ba7af185",
   "metadata": {},
   "outputs": [],
   "source": []
  },
  {
   "cell_type": "code",
   "execution_count": null,
   "id": "447ce500",
   "metadata": {},
   "outputs": [],
   "source": []
  }
 ],
 "metadata": {
  "kernelspec": {
   "display_name": "Python 3 (ipykernel)",
   "language": "python",
   "name": "python3"
  },
  "language_info": {
   "codemirror_mode": {
    "name": "ipython",
    "version": 3
   },
   "file_extension": ".py",
   "mimetype": "text/x-python",
   "name": "python",
   "nbconvert_exporter": "python",
   "pygments_lexer": "ipython3",
   "version": "3.11.5"
  }
 },
 "nbformat": 4,
 "nbformat_minor": 5
}
