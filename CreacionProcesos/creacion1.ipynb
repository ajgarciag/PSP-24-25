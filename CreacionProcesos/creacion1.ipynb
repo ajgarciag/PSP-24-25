{
 "cells": [
  {
   "cell_type": "code",
   "execution_count": 8,
   "id": "58db3565",
   "metadata": {},
   "outputs": [
    {
     "name": "stdout",
     "output_type": "stream",
     "text": [
      "Introduce el término que deseas buscar: diario el mundo\n"
     ]
    },
    {
     "data": {
      "text/plain": [
       "CompletedProcess(args=['C:\\\\Program Files\\\\Google\\\\Chrome\\\\Application\\\\chrome.exe', 'https://www.google.com/search?q=diario el mundo'], returncode=0)"
      ]
     },
     "execution_count": 8,
     "metadata": {},
     "output_type": "execute_result"
    }
   ],
   "source": [
    "import subprocess\n",
    "\n",
    "# Solicitar al usuario que ingrese el término de búsqueda\n",
    "termino_busqueda = input(\"Introduce el término que deseas buscar: \")\n",
    "\n",
    "# Formatear la URL de búsqueda de Google\n",
    "url = f\"https://www.google.com/search?q={termino_busqueda}\"\n",
    "\n",
    "# Ejecutar Google Chrome con la URL\n",
    "subprocess.run([r\"C:\\Program Files\\Google\\Chrome\\Application\\chrome.exe\", url])\n"
   ]
  },
  {
   "cell_type": "code",
   "execution_count": null,
   "id": "4e2ee7a4",
   "metadata": {},
   "outputs": [],
   "source": []
  }
 ],
 "metadata": {
  "kernelspec": {
   "display_name": "Python 3 (ipykernel)",
   "language": "python",
   "name": "python3"
  },
  "language_info": {
   "codemirror_mode": {
    "name": "ipython",
    "version": 3
   },
   "file_extension": ".py",
   "mimetype": "text/x-python",
   "name": "python",
   "nbconvert_exporter": "python",
   "pygments_lexer": "ipython3",
   "version": "3.11.5"
  }
 },
 "nbformat": 4,
 "nbformat_minor": 5
}
