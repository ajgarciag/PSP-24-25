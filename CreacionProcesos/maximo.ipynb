{
 "cells": [
  {
   "cell_type": "code",
   "execution_count": 1,
   "id": "a294e9e8",
   "metadata": {},
   "outputs": [
    {
     "name": "stdout",
     "output_type": "stream",
     "text": [
      "Introduce numeros separados por comas: 3,5,7,10,2\n",
      "['3', '5', '7', '10', '2']\n",
      "[3, 5, 7, 10, 2]\n",
      "El maximo es  10\n"
     ]
    }
   ],
   "source": [
    "l=input(\"Introduce numeros separados por comas: \")\n",
    "l=l.split(',')\n",
    "print(l)\n",
    "l=[int(x) for x in l]\n",
    "print(l)\n",
    "max=l[0]\n",
    "for i in range(len(l)):\n",
    "    if l[i]>max:\n",
    "        max=l[i]\n",
    "print(\"El maximo es \", max)"
   ]
  },
  {
   "cell_type": "code",
   "execution_count": null,
   "id": "c1d46279",
   "metadata": {},
   "outputs": [],
   "source": []
  }
 ],
 "metadata": {
  "kernelspec": {
   "display_name": "Python 3 (ipykernel)",
   "language": "python",
   "name": "python3"
  },
  "language_info": {
   "codemirror_mode": {
    "name": "ipython",
    "version": 3
   },
   "file_extension": ".py",
   "mimetype": "text/x-python",
   "name": "python",
   "nbconvert_exporter": "python",
   "pygments_lexer": "ipython3",
   "version": "3.11.5"
  }
 },
 "nbformat": 4,
 "nbformat_minor": 5
}
