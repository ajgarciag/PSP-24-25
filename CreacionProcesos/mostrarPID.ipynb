{
 "cells": [
  {
   "cell_type": "code",
   "execution_count": 6,
   "id": "ddc8699e",
   "metadata": {},
   "outputs": [
    {
     "name": "stdout",
     "output_type": "stream",
     "text": [
      "<subprocess.STARTUPINFO object at 0x000001C4149E7750>\n",
      "El PID de este proceso es: 21584\n"
     ]
    }
   ],
   "source": [
    "import subprocess\n",
    "import time\n",
    "\n",
    "def CrearProceso():\n",
    "    try:\n",
    "        SW_SHOWMAXIMIZED = 3\n",
    "        info = subprocess.STARTUPINFO()\n",
    "        print(info)\n",
    "        info.dwFlags |= subprocess.STARTF_USESHOWWINDOW \n",
    "        info.wShowWindow = SW_SHOWMAXIMIZED\n",
    "        proc = subprocess.Popen(r\"C:\\Program Files\\Notepad++\\notepad++.exe\", startupinfo=info)\n",
    "        return proc\n",
    "    except subprocess.CalledProcessError as e:\n",
    "        print(e.output)\n",
    "p = CrearProceso()\n",
    "print (\"El PID de este proceso es: \" + str(p.pid))\n",
    "time.sleep(30)"
   ]
  },
  {
   "cell_type": "code",
   "execution_count": null,
   "id": "0d8b77c4",
   "metadata": {},
   "outputs": [],
   "source": []
  }
 ],
 "metadata": {
  "kernelspec": {
   "display_name": "Python 3 (ipykernel)",
   "language": "python",
   "name": "python3"
  },
  "language_info": {
   "codemirror_mode": {
    "name": "ipython",
    "version": 3
   },
   "file_extension": ".py",
   "mimetype": "text/x-python",
   "name": "python",
   "nbconvert_exporter": "python",
   "pygments_lexer": "ipython3",
   "version": "3.11.5"
  }
 },
 "nbformat": 4,
 "nbformat_minor": 5
}
