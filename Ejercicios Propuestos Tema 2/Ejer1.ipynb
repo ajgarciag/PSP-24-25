{
 "cells": [
  {
   "cell_type": "markdown",
   "id": "98b7ede9",
   "metadata": {},
   "source": [
    "### Cuenta regresiva"
   ]
  },
  {
   "cell_type": "code",
   "execution_count": 4,
   "id": "a7c41204",
   "metadata": {
    "scrolled": true
   },
   "outputs": [
    {
     "name": "stderr",
     "output_type": "stream",
     "text": [
      "[Thread-7 (cuenta)]: Inicia la cuenta regresiva: \n",
      "[Thread-7 (cuenta)]: 10\n",
      "[Thread-7 (cuenta)]: 9\n",
      "[Thread-7 (cuenta)]: 8\n",
      "[Thread-7 (cuenta)]: 7\n",
      "[Thread-7 (cuenta)]: 6\n",
      "[Thread-7 (cuenta)]: 5\n",
      "[Thread-7 (cuenta)]: 4\n",
      "[Thread-7 (cuenta)]: 3\n",
      "[Thread-7 (cuenta)]: 2\n",
      "[Thread-7 (cuenta)]: 1\n",
      "[Thread-7 (cuenta)]: 0\n",
      "[MainThread]: Finalizado!!!\n"
     ]
    }
   ],
   "source": [
    "from threading import *\n",
    "import time, logging\n",
    "\n",
    "logging.basicConfig( level=logging.DEBUG, format='[%(threadName)-10s]: %(message)s')\n",
    "\n",
    "def cuenta():\n",
    "    logging.debug(\"Inicia la cuenta regresiva: \")\n",
    "    for i in range(11):\n",
    "        logging.debug(\"%d\",10-i)\n",
    "        time.sleep(1)\n",
    "t = Thread(target=cuenta)\n",
    "t.start()\n",
    "t.join()\n",
    "logging.debug(\"Finalizado!!!\")"
   ]
  },
  {
   "cell_type": "code",
   "execution_count": null,
   "id": "dff1e666",
   "metadata": {},
   "outputs": [],
   "source": []
  }
 ],
 "metadata": {
  "kernelspec": {
   "display_name": "Python 3 (ipykernel)",
   "language": "python",
   "name": "python3"
  },
  "language_info": {
   "codemirror_mode": {
    "name": "ipython",
    "version": 3
   },
   "file_extension": ".py",
   "mimetype": "text/x-python",
   "name": "python",
   "nbconvert_exporter": "python",
   "pygments_lexer": "ipython3",
   "version": "3.11.5"
  }
 },
 "nbformat": 4,
 "nbformat_minor": 5
}
