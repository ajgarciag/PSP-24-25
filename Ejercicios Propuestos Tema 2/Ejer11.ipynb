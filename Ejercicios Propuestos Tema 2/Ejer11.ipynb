{
 "cells": [
  {
   "cell_type": "code",
   "execution_count": 2,
   "metadata": {},
   "outputs": [
    {
     "name": "stdout",
     "output_type": "stream",
     "text": [
      "El hilo Thread-5 (acceso) ha llegado a la BDD\n",
      "Thread-5 (acceso) trabajando...\n",
      "El hilo Thread-6 (acceso) ha llegado a la BDD\n",
      "Thread-6 (acceso) trabajando...\n",
      "El hilo Thread-7 (acceso) ha llegado a la BDD\n",
      "Thread-7 (acceso) trabajando...\n",
      "El hilo Thread-8 (acceso) ha llegado a la BDD\n",
      "Thread-8 (acceso) trabajando...\n",
      "El hilo Thread-9 (acceso) ha llegado a la BDD\n",
      "El hilo Thread-10 (acceso) ha llegado a la BDD\n",
      "El hilo Thread-11 (acceso) ha llegado a la BDD\n",
      "El hilo Thread-12 (acceso) ha llegado a la BDD\n",
      "El hilo Thread-13 (acceso) ha llegado a la BDD\n",
      "El hilo Thread-14 (acceso) ha llegado a la BDD\n"
     ]
    },
    {
     "name": "stdout",
     "output_type": "stream",
     "text": [
      "El hilo Thread-5 (acceso) ha salido de la BDDThread-9 (acceso) trabajando...\n",
      "El hilo Thread-6 (acceso) ha salido de la BDD\n",
      "\n",
      "El hilo Thread-8 (acceso) ha salido de la BDD\n",
      "Thread-11 (acceso) trabajando...\n",
      "El hilo Thread-7 (acceso) ha salido de la BDD\n",
      "Thread-10 (acceso) trabajando...\n",
      "Thread-12 (acceso) trabajando...\n",
      "El hilo Thread-9 (acceso) ha salido de la BDDThread-13 (acceso) trabajando...\n",
      "\n",
      "El hilo Thread-11 (acceso) ha salido de la BDD\n",
      "Thread-14 (acceso) trabajando...\n",
      "El hilo Thread-12 (acceso) ha salido de la BDD\n",
      "El hilo Thread-10 (acceso) ha salido de la BDD\n",
      "El hilo Thread-13 (acceso) ha salido de la BDD\n",
      "El hilo Thread-14 (acceso) ha salido de la BDD\n"
     ]
    }
   ],
   "source": [
    "import threading, time\n",
    "\n",
    "semaforo = threading.Semaphore(4)\n",
    "\n",
    "def acceso():\n",
    "    print(f\"El hilo {threading.current_thread().name} ha llegado a la BDD\")\n",
    "    \n",
    "    semaforo.acquire()\n",
    "    print(f\"{threading.current_thread().name} trabajando...\")\n",
    "    time.sleep(2)\n",
    "    semaforo.release()\n",
    "\n",
    "    print(f\"El hilo {threading.current_thread().name} ha salido de la BDD\")\n",
    "\n",
    "for _ in range(10):\n",
    "    t = threading.Thread(target=acceso)\n",
    "    t.start()"
   ]
  }
 ],
 "metadata": {
  "kernelspec": {
   "display_name": "base",
   "language": "python",
   "name": "python3"
  },
  "language_info": {
   "codemirror_mode": {
    "name": "ipython",
    "version": 3
   },
   "file_extension": ".py",
   "mimetype": "text/x-python",
   "name": "python",
   "nbconvert_exporter": "python",
   "pygments_lexer": "ipython3",
   "version": "3.11.5"
  }
 },
 "nbformat": 4,
 "nbformat_minor": 2
}
