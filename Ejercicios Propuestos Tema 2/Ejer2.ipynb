{
 "cells": [
  {
   "cell_type": "code",
   "execution_count": 1,
   "id": "4664d17d",
   "metadata": {},
   "outputs": [
    {
     "name": "stdout",
     "output_type": "stream",
     "text": [
      "Hilo: Thread-5 (aleatorio), número aleatorio: 81\n",
      "Hilo: Thread-5 (aleatorio), número aleatorio: 34\n",
      "Hilo: Thread-5 (aleatorio), número aleatorio: 39\n",
      "Hilo: Thread-5 (aleatorio), número aleatorio: 67\n",
      "Hilo: Thread-5 (aleatorio), número aleatorio: 65\n",
      "Hilo: Thread-6 (aleatorio), número aleatorio: 13\n",
      "Hilo: Thread-6 (aleatorio), número aleatorio: 53\n",
      "Hilo: Thread-6 (aleatorio), número aleatorio: 78\n",
      "Hilo: Thread-6 (aleatorio), número aleatorio: 24\n",
      "Hilo: Thread-6 (aleatorio), número aleatorio: 64\n"
     ]
    }
   ],
   "source": [
    "import threading, random, time\n",
    "\n",
    "def aleatorio():\n",
    "    for _ in range(5):\n",
    "        n = random.randint(1,100)\n",
    "        print(f\"Hilo: {threading.current_thread().name}, número aleatorio: {n}\")\n",
    "        #time.sleep(0.5)\n",
    "for _ in range(2):\n",
    "    t = threading.Thread(target=aleatorio)\n",
    "    t.start()\n",
    "    "
   ]
  },
  {
   "cell_type": "code",
   "execution_count": null,
   "id": "221ae7be",
   "metadata": {},
   "outputs": [],
   "source": []
  }
 ],
 "metadata": {
  "kernelspec": {
   "display_name": "Python 3 (ipykernel)",
   "language": "python",
   "name": "python3"
  },
  "language_info": {
   "codemirror_mode": {
    "name": "ipython",
    "version": 3
   },
   "file_extension": ".py",
   "mimetype": "text/x-python",
   "name": "python",
   "nbconvert_exporter": "python",
   "pygments_lexer": "ipython3",
   "version": "3.11.5"
  }
 },
 "nbformat": 4,
 "nbformat_minor": 5
}
