{
 "cells": [
  {
   "cell_type": "code",
   "execution_count": 14,
   "id": "13750afb",
   "metadata": {},
   "outputs": [
    {
     "name": "stderr",
     "output_type": "stream",
     "text": [
      "[Thread-57 ]: Palabra leída: muy\n",
      "[Thread-60 ]: Palabra leída: amigo\n",
      "[Thread-59 ]: Palabra leída: tardes\n",
      "[Thread-58 ]: Palabra leída: buenas\n",
      "[Thread-56 ]: Palabra leída: hola\n"
     ]
    }
   ],
   "source": [
    "import threading, random, time, logging\n",
    "\n",
    "logging.basicConfig(level=logging.DEBUG, format='[%(threadName)-10s]: %(message)s')\n",
    "\n",
    "\n",
    "class miHilo(threading.Thread):\n",
    "    def __init__(self, palabra):\n",
    "        super(miHilo, self).__init__() #creamos el hilo\n",
    "        self.palabra = palabra\n",
    "    def run(self):\n",
    "        time.sleep(random.random())\n",
    "        logging.debug(f\"Palabra leída: {self.palabra}\")\n",
    "\n",
    "lista = ['hola','muy','buenas','tardes','amigo']      \n",
    "for palabra in lista:\n",
    "    t = miHilo(palabra)\n",
    "    t.start()\n",
    "\n"
   ]
  },
  {
   "cell_type": "code",
   "execution_count": null,
   "id": "335c3f64",
   "metadata": {},
   "outputs": [],
   "source": []
  }
 ],
 "metadata": {
  "kernelspec": {
   "display_name": "Python 3 (ipykernel)",
   "language": "python",
   "name": "python3"
  },
  "language_info": {
   "codemirror_mode": {
    "name": "ipython",
    "version": 3
   },
   "file_extension": ".py",
   "mimetype": "text/x-python",
   "name": "python",
   "nbconvert_exporter": "python",
   "pygments_lexer": "ipython3",
   "version": "3.11.5"
  }
 },
 "nbformat": 4,
 "nbformat_minor": 5
}
