{
 "cells": [
  {
   "cell_type": "code",
   "execution_count": 6,
   "id": "f7859e4f",
   "metadata": {},
   "outputs": [
    {
     "name": "stderr",
     "output_type": "stream",
     "text": [
      "[Thread-8 (saludo)]: Hola juan, el numero es 6\n",
      "[Thread-9 (saludo)]: Hola pepe, el numero es 5\n",
      "[Thread-10 (saludo)]: Hola nico, el numero es 7\n"
     ]
    }
   ],
   "source": [
    "import threading, logging, random\n",
    "\n",
    "logging.basicConfig(level=logging.DEBUG, format='[%(threadName)-10s]: %(message)s')\n",
    "\n",
    "def saludo(nombre, numero):\n",
    "    logging.debug(f\"Hola {nombre}, el numero es {numero}\")\n",
    "\n",
    "nombres=[\"juan\",\"pepe\",\"nico\"]\n",
    "for i in range(3):\n",
    "    t=threading.Thread(target=saludo, args=(nombres[i],random.randint(1,10)))\n",
    "    t.start()"
   ]
  }
 ],
 "metadata": {
  "kernelspec": {
   "display_name": "Python 3 (ipykernel)",
   "language": "python",
   "name": "python3"
  },
  "language_info": {
   "codemirror_mode": {
    "name": "ipython",
    "version": 3
   },
   "file_extension": ".py",
   "mimetype": "text/x-python",
   "name": "python",
   "nbconvert_exporter": "python",
   "pygments_lexer": "ipython3",
   "version": "3.11.5"
  }
 },
 "nbformat": 4,
 "nbformat_minor": 5
}
