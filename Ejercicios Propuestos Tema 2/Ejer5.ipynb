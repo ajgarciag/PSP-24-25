{
 "cells": [
  {
   "cell_type": "code",
   "execution_count": 22,
   "id": "363e07b4",
   "metadata": {},
   "outputs": [
    {
     "name": "stdout",
     "output_type": "stream",
     "text": [
      "Método ejecutado desde MainThread con ID 22812\n",
      "Este es el hilo MainThread\n",
      "Vamos a cambiar el nombre del hilo Thread-10 (mifuncion) con ID 6660\n",
      "El nombre ahora es NombreCambiado\n"
     ]
    }
   ],
   "source": [
    "import threading\n",
    "\n",
    "def mifuncion():\n",
    "    if threading.current_thread().name=='MainThread':\n",
    "        print(f\"Método ejecutado desde {threading.current_thread().name} con ID {threading.current_thread().ident}\")\n",
    "        print(f\"Este es el hilo {threading.current_thread().name}\")\n",
    "    else: \n",
    "        print(f\"Vamos a cambiar el nombre del hilo {threading.current_thread().name} con ID {threading.current_thread().ident}\")\n",
    "        threading.current_thread().name = \"NombreCambiado\"\n",
    "        print(f\"El nombre ahora es {threading.current_thread().name}\")\n",
    "\n",
    "mifuncion()\n",
    "t = threading.Thread(target=mifuncion)\n",
    "t.start()\n",
    "\n"
   ]
  },
  {
   "cell_type": "code",
   "execution_count": 21,
   "id": "f9eabb71",
   "metadata": {},
   "outputs": [
    {
     "name": "stdout",
     "output_type": "stream",
     "text": [
      "4\n"
     ]
    }
   ],
   "source": [
    "a = 1\n",
    "def prueba():\n",
    "    b = 5-a\n",
    "    print(b)\n",
    "prueba()"
   ]
  }
 ],
 "metadata": {
  "kernelspec": {
   "display_name": "Python 3 (ipykernel)",
   "language": "python",
   "name": "python3"
  },
  "language_info": {
   "codemirror_mode": {
    "name": "ipython",
    "version": 3
   },
   "file_extension": ".py",
   "mimetype": "text/x-python",
   "name": "python",
   "nbconvert_exporter": "python",
   "pygments_lexer": "ipython3",
   "version": "3.11.5"
  }
 },
 "nbformat": 4,
 "nbformat_minor": 5
}
