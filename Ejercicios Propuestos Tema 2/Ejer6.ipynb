{
 "cells": [
  {
   "cell_type": "code",
   "execution_count": 8,
   "id": "a4b38671",
   "metadata": {},
   "outputs": [
    {
     "name": "stdout",
     "output_type": "stream",
     "text": [
      "Hilo: Thread-75 (generaSuma). La suma es  46982\n",
      "Hilo: Thread-76 (generaSuma). La suma es  52089\n",
      "Hilo: Thread-77 (generaSuma). La suma es  49195\n",
      "Hilo: Thread-78 (generaSuma). La suma es  51631\n",
      "Hilo: Thread-79 (generaSuma). La suma es  48605\n",
      "Hilo: Thread-80 (generaSuma). La suma es  47212\n",
      "Hilo: Thread-81 (generaSuma). La suma es  45455\n",
      "Hilo: Thread-82 (generaSuma). La suma es  48269\n",
      "Hilo: Thread-83 (generaSuma). La suma es  45349\n",
      "Hilo: Thread-84 (generaSuma). La suma es  45056\n",
      "Ha ganado el hilo Thread-76 (generaSuma), el máximo es 52089\n"
     ]
    }
   ],
   "source": [
    "import threading, time, random\n",
    "from maximo import maximo\n",
    "\n",
    "def generaSuma():\n",
    "    suma = 0\n",
    "    with lock:\n",
    "        global resultados\n",
    "        for _ in range(100):\n",
    "            suma = suma + random.randint(1,1000)\n",
    "        \n",
    "        resultados.append(suma)\n",
    "        print(f\"Hilo: {threading.current_thread().name}. La suma es \",suma)\n",
    "        \n",
    "def maximo(l):\n",
    "    maxi = l[0]\n",
    "    loc = 0\n",
    "    for i in range(len(l)):\n",
    "        if l[i]>maxi:\n",
    "            maxi=l[i]\n",
    "            loc = i\n",
    "    return [maxi,loc]\n",
    "\n",
    "resultados = []\n",
    "lock = threading.Lock()\n",
    "#suma = threading.local() #variable con instancia local en cada hilo\n",
    "hilos = []\n",
    "for _ in range(10):\n",
    "    t = threading.Thread(target=generaSuma)\n",
    "    t.start()\n",
    "    hilos.append(t)\n",
    "\n",
    "    \n",
    "for threads in hilos:\n",
    "    threads.join()\n",
    "\n",
    "sol = maximo(resultados)\n",
    "\n",
    "print(f\"Ha ganado el hilo {hilos[sol[1]].name}, el máximo es {sol[0]}\")"
   ]
  },
  {
   "cell_type": "code",
   "execution_count": null,
   "id": "7b21467c",
   "metadata": {},
   "outputs": [],
   "source": []
  }
 ],
 "metadata": {
  "kernelspec": {
   "display_name": "Python 3 (ipykernel)",
   "language": "python",
   "name": "python3"
  },
  "language_info": {
   "codemirror_mode": {
    "name": "ipython",
    "version": 3
   },
   "file_extension": ".py",
   "mimetype": "text/x-python",
   "name": "python",
   "nbconvert_exporter": "python",
   "pygments_lexer": "ipython3",
   "version": "3.11.5"
  }
 },
 "nbformat": 4,
 "nbformat_minor": 5
}
