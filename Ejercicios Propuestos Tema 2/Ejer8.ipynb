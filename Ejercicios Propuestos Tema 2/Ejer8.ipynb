{
 "cells": [
  {
   "cell_type": "code",
   "execution_count": 3,
   "metadata": {},
   "outputs": [
    {
     "name": "stdout",
     "output_type": "stream",
     "text": [
      "Elemento: Archivo 1, tiempo de descarga:10\n",
      "Inicia la descarga del Archivo 1\n",
      "Elemento: Archivo 2, tiempo de descarga:5\n",
      "Inicia la descarga del Archivo 2\n",
      "Elemento: Archivo 3, tiempo de descarga:7\n",
      "Inicia la descarga del Archivo 3\n",
      "Elemento: Archivo 4, tiempo de descarga:5\n",
      "Inicia la descarga del Archivo 4\n",
      "Elemento: Archivo 5, tiempo de descarga:2\n",
      "Inicia la descarga del Archivo 5\n",
      "Todas las descargas han finalizado\n"
     ]
    },
    {
     "name": "stdout",
     "output_type": "stream",
     "text": [
      "Descarga del Archivo 5 finalizada.\n",
      "Descarga del Archivo 2 finalizada.\n",
      "Descarga del Archivo 4 finalizada.\n",
      "Descarga del Archivo 3 finalizada.\n",
      "Descarga del Archivo 1 finalizada.\n"
     ]
    }
   ],
   "source": [
    "import threading, time\n",
    "\n",
    "def descargar_archivo(nombre, tiempo):\n",
    "    print(f\"Inicia la descarga del {nombre}\")\n",
    "    time.sleep(tiempo)\n",
    "    print(f\"Descarga del {nombre} finalizada.\")\n",
    "\n",
    "archivos = {'Archivo 1':10,'Archivo 2':5, 'Archivo 3':7, 'Archivo 4':5, 'Archivo 5':2 }\n",
    "\n",
    "hilos = []\n",
    "for clave, valor in archivos.items():\n",
    "    print(f\"Elemento: {clave}, tiempo de descarga:{valor}\")\n",
    "    t = threading.Thread(target=descargar_archivo, args=(clave, valor))\n",
    "    hilos.append(t)\n",
    "    t.start()\n",
    "    \n",
    "for h in hilos:\n",
    "    h.join()\n",
    "\n",
    "print(\"Todas las descargas han finalizado\")"
   ]
  },
  {
   "cell_type": "code",
   "execution_count": null,
   "metadata": {},
   "outputs": [],
   "source": []
  }
 ],
 "metadata": {
  "kernelspec": {
   "display_name": "base",
   "language": "python",
   "name": "python3"
  },
  "language_info": {
   "codemirror_mode": {
    "name": "ipython",
    "version": 3
   },
   "file_extension": ".py",
   "mimetype": "text/x-python",
   "name": "python",
   "nbconvert_exporter": "python",
   "pygments_lexer": "ipython3",
   "version": "3.11.5"
  }
 },
 "nbformat": 4,
 "nbformat_minor": 2
}
