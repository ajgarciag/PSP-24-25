{
 "cells": [
  {
   "cell_type": "code",
   "execution_count": 7,
   "id": "7febdec9",
   "metadata": {},
   "outputs": [
    {
     "name": "stdout",
     "output_type": "stream",
     "text": [
      "Alonso ha avanzado 4 metros. Progreso actual: 4\n",
      "Max ha avanzado 2 metros. Progreso actual: 2\n",
      "Charles ha avanzado 1 metros. Progreso actual: 1\n",
      "Franco ha avanzado 1 metros. Progreso actual: 1\n",
      "Charles ha avanzado 4 metros. Progreso actual: 5\n",
      "Max ha avanzado 1 metros. Progreso actual: 3\n",
      "Franco ha avanzado 2 metros. Progreso actual: 3\n",
      "Alonso ha avanzado 1 metros. Progreso actual: 5\n",
      "Charles ha avanzado 2 metros. Progreso actual: 7\n",
      "Alonso ha avanzado 3 metros. Progreso actual: 8\n",
      "Max ha avanzado 1 metros. Progreso actual: 4\n",
      "Franco ha avanzado 4 metros. Progreso actual: 7\n",
      "Alonso ha avanzado 1 metros. Progreso actual: 9\n",
      "Franco ha avanzado 3 metros. Progreso actual: 10\n",
      "Charles ha avanzado 2 metros. Progreso actual: 9\n",
      "Charles ha avanzado 1 metros. Progreso actual: 10\n",
      "Max ha avanzado 4 metros. Progreso actual: 8\n",
      "Franco ha avanzado 4 metros. Progreso actual: 14\n",
      "Alonso ha avanzado 4 metros. Progreso actual: 13\n",
      "Max ha avanzado 1 metros. Progreso actual: 9\n",
      "Charles ha avanzado 1 metros. Progreso actual: 11\n",
      "Franco ha avanzado 4 metros. Progreso actual: 18\n",
      "Alonso ha avanzado 1 metros. Progreso actual: 14\n",
      "Franco ha avanzado 2 metros. Progreso actual: 20\n",
      "Tenemos un ganador\n",
      "Ha ganado Franco la carrera!!\n"
     ]
    }
   ],
   "source": [
    "import threading, time, random\n",
    "\n",
    "corredores = [['Alonso',0],['Max',0],['Charles',0],['Franco',0]]\n",
    "lock = threading.Lock()\n",
    "ganador=0\n",
    "\n",
    "def carrera(datos):\n",
    "    piloto = datos[0]\n",
    "    posicion = datos[1]\n",
    "    global ganador\n",
    "    while posicion<=20 and ganador==0:\n",
    "        \n",
    "        avance = random.randint(1,4)\n",
    "        posicion += avance\n",
    "        print(f\"{piloto} ha avanzado {avance} metros. Progreso actual: {posicion}\")\n",
    "        \n",
    "        if posicion>=20 and ganador==0:\n",
    "            with lock:\n",
    "                ganador = piloto\n",
    "                print(\"Tenemos un ganador\")\n",
    "        \n",
    "        #Pausa para simular el tiempo que tarda en avanzar\n",
    "        time.sleep(random.uniform(0.5, 1.5))\n",
    "\n",
    "parrilla=[] \n",
    "for x in corredores:\n",
    "    t = threading.Thread(target=carrera, args=(x,))\n",
    "    t.start()\n",
    "    parrilla.append(t)\n",
    "    \n",
    "for hilo in parrilla:\n",
    "    hilo.join()\n",
    "print(f\"Ha ganado {ganador} la carrera!!\")"
   ]
  }
 ],
 "metadata": {
  "kernelspec": {
   "display_name": "Python 3 (ipykernel)",
   "language": "python",
   "name": "python3"
  },
  "language_info": {
   "codemirror_mode": {
    "name": "ipython",
    "version": 3
   },
   "file_extension": ".py",
   "mimetype": "text/x-python",
   "name": "python",
   "nbconvert_exporter": "python",
   "pygments_lexer": "ipython3",
   "version": "3.11.5"
  }
 },
 "nbformat": 4,
 "nbformat_minor": 5
}
