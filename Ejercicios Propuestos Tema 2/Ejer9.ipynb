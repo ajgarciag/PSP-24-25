{
 "cells": [
  {
   "cell_type": "code",
   "execution_count": 6,
   "id": "20f62652",
   "metadata": {},
   "outputs": [
    {
     "name": "stdout",
     "output_type": "stream",
     "text": [
      "Alonso avanzó 1 unidades. Progreso total: 1\n",
      "CSainz avanzó 1 unidades. Progreso total: 1\n",
      "Hamilton avanzó 1 unidades. Progreso total: 1\n",
      "Verstappen avanzó 1 unidades. Progreso total: 1\n",
      "Norris avanzó 1 unidades. Progreso total: 1\n",
      "Verstappen avanzó 3 unidades. Progreso total: 4\n",
      "Norris avanzó 2 unidades. Progreso total: 3\n",
      "Alonso avanzó 2 unidades. Progreso total: 3\n",
      "Hamilton avanzó 2 unidades. Progreso total: 3\n",
      "CSainz avanzó 2 unidades. Progreso total: 3\n",
      "Verstappen avanzó 1 unidades. Progreso total: 5\n",
      "Alonso avanzó 3 unidades. Progreso total: 6\n",
      "Norris avanzó 1 unidades. Progreso total: 4\n",
      "Verstappen avanzó 1 unidades. Progreso total: 6\n",
      "Hamilton avanzó 2 unidades. Progreso total: 5\n",
      "CSainz avanzó 3 unidades. Progreso total: 6\n",
      "Norris avanzó 1 unidades. Progreso total: 5\n",
      "Alonso avanzó 1 unidades. Progreso total: 7\n",
      "CSainz avanzó 3 unidades. Progreso total: 9\n",
      "Verstappen avanzó 3 unidades. Progreso total: 9\n",
      "Hamilton avanzó 3 unidades. Progreso total: 8\n",
      "Alonso avanzó 2 unidades. Progreso total: 9\n",
      "Norris avanzó 2 unidades. Progreso total: 7\n",
      "Hamilton avanzó 3 unidades. Progreso total: 11\n",
      "¡Ya tenemos un ganador!\n",
      "El ganador de la carrera es: Hamilton\n"
     ]
    }
   ],
   "source": [
    "import threading, time, random\n",
    "\n",
    "def carrera(camello):\n",
    "    global ganador\n",
    "    progreso = 0\n",
    "    while progreso < 10 and ganador==0:\n",
    "        avance = random.randint(1, 3)\n",
    "        progreso = progreso + avance\n",
    "        print(f\"{camello} avanzó {avance} unidades. Progreso total: {progreso}\")\n",
    "        \n",
    "        if progreso >= 10:\n",
    "            with lock:\n",
    "                if ganador==0:\n",
    "                    ganador = camello\n",
    "                    print(f\"¡Ya tenemos un ganador!\")\n",
    "        #Pausa para simular el tiempo que tarda en avanzar\n",
    "        time.sleep(random.uniform(0.5, 1.5))\n",
    "\n",
    "ganador = 0 #Variable global para determinar el ganador\n",
    "lock = threading.Lock()\n",
    "camellos = [\"Alonso\", \"CSainz\", \"Hamilton\", \"Verstappen\", \"Norris\"]\n",
    "hilos = []\n",
    "\n",
    "#Crear e iniciar los hilos para cada camello\n",
    "for camello in camellos:\n",
    "    hilo = threading.Thread(target=carrera, args=(camello,))\n",
    "    hilos.append(hilo)\n",
    "    hilo.start()\n",
    "\n",
    "#Esperar a que todos los hilos terminen\n",
    "for hilo in hilos:\n",
    "    hilo.join()\n",
    "\n",
    "#Imprimir el ganador final\n",
    "print(f\"El ganador de la carrera es: {ganador}\")\n"
   ]
  },
  {
   "cell_type": "code",
   "execution_count": 25,
   "id": "d0c3749c",
   "metadata": {},
   "outputs": [],
   "source": [
    "lista=[\"camello1\",\"camello2\",\"camello3\"]\n",
    "for x in lista:\n",
    "    t=threading.Thread(target=carrera,args(x,))\n",
    "    t.start()\n",
    "    \n",
    "def carrera(nombre):\n",
    "    progeso = 0\n",
    "    while progreso<=10:\n",
    "        avance = random.randint(1,3)\n",
    "        progreso += avance\n",
    "        print(f\"{nombre} avanza {avance} unidades. Progeso Actual: {progreso}\")\n",
    "        \n",
    "    "
   ]
  },
  {
   "cell_type": "code",
   "execution_count": 5,
   "id": "88bc8cee",
   "metadata": {},
   "outputs": [
    {
     "data": {
      "text/plain": [
       "2"
      ]
     },
     "execution_count": 5,
     "metadata": {},
     "output_type": "execute_result"
    }
   ],
   "source": [
    "import random\n",
    "random.randint(1,2)"
   ]
  }
 ],
 "metadata": {
  "kernelspec": {
   "display_name": "Python 3 (ipykernel)",
   "language": "python",
   "name": "python3"
  },
  "language_info": {
   "codemirror_mode": {
    "name": "ipython",
    "version": 3
   },
   "file_extension": ".py",
   "mimetype": "text/x-python",
   "name": "python",
   "nbconvert_exporter": "python",
   "pygments_lexer": "ipython3",
   "version": "3.11.5"
  }
 },
 "nbformat": 4,
 "nbformat_minor": 5
}
