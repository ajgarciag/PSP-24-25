{
 "cells": [
  {
   "cell_type": "code",
   "execution_count": null,
   "id": "bf5e21c6",
   "metadata": {},
   "outputs": [],
   "source": [
    "import subprocess\n",
    "\n",
    "proceso = subprocess.Popen([\"python.exe\",\"Ejercicio3.py\"], stdin=subprocess.PIPE, stdout=subprocess.PIPE, stderr=subprocess.PIPE)\n",
    "\n",
    "cadena = input(\"Dame la cadena: \")\n",
    "#cadena_byte = cadena.encode('utf-8') #convierte la cadena str a <class 'bytes'>, para poder comunicar con el proceso.\n",
    "#print(type(cadena_byte))\n",
    "output,_ = proceso.communicate(cadena)\n",
    "\n",
    "print(output.decode('latin1'))"
   ]
  }
 ],
 "metadata": {
  "kernelspec": {
   "display_name": "Python 3 (ipykernel)",
   "language": "python",
   "name": "python3"
  },
  "language_info": {
   "codemirror_mode": {
    "name": "ipython",
    "version": 3
   },
   "file_extension": ".py",
   "mimetype": "text/x-python",
   "name": "python",
   "nbconvert_exporter": "python",
   "pygments_lexer": "ipython3",
   "version": "3.11.5"
  }
 },
 "nbformat": 4,
 "nbformat_minor": 5
}
