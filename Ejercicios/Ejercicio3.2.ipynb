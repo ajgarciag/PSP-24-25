{
 "cells": [
  {
   "cell_type": "code",
   "execution_count": 3,
   "id": "46e22fe4",
   "metadata": {},
   "outputs": [],
   "source": [
    "def esPalindromo(ruta):\n",
    "    with open(ruta,'r', encoding='utf-8') as archivo:\n",
    "        cadena = archivo.read()\n",
    "        if len(cadena)==0:\n",
    "            print(\"La cadena está vacía\")\n",
    "            return 0\n",
    "        else:\n",
    "            cadena = cadena.lower()\n",
    "            aux = ''.join(c for c in cadena if c!=' ')\n",
    "            if aux[::-1]==aux:\n",
    "                print(\"La cadena es un palíndromo\")\n",
    "            else:\n",
    "                print(\"La cadena no es un palíndromo\")"
   ]
  },
  {
   "cell_type": "code",
   "execution_count": 5,
   "id": "75812904",
   "metadata": {},
   "outputs": [
    {
     "name": "stdout",
     "output_type": "stream",
     "text": [
      "La cadena es un palíndromo\n"
     ]
    }
   ],
   "source": [
    "esPalindromo(r\"C:\\Users\\Administrador\\Desktop\\palindromo.txt\")"
   ]
  },
  {
   "cell_type": "code",
   "execution_count": null,
   "id": "b9eed2b9",
   "metadata": {},
   "outputs": [],
   "source": []
  }
 ],
 "metadata": {
  "kernelspec": {
   "display_name": "Python 3 (ipykernel)",
   "language": "python",
   "name": "python3"
  },
  "language_info": {
   "codemirror_mode": {
    "name": "ipython",
    "version": 3
   },
   "file_extension": ".py",
   "mimetype": "text/x-python",
   "name": "python",
   "nbconvert_exporter": "python",
   "pygments_lexer": "ipython3",
   "version": "3.11.5"
  }
 },
 "nbformat": 4,
 "nbformat_minor": 5
}
